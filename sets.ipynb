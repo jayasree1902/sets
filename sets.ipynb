{
 "cells": [
  {
   "cell_type": "code",
   "execution_count": 1,
   "id": "429f8c4d",
   "metadata": {},
   "outputs": [],
   "source": [
    "t=(3,4,5,6,7)"
   ]
  },
  {
   "cell_type": "code",
   "execution_count": 2,
   "id": "78c2d213",
   "metadata": {},
   "outputs": [
    {
     "data": {
      "text/plain": [
       "tuple"
      ]
     },
     "execution_count": 2,
     "metadata": {},
     "output_type": "execute_result"
    }
   ],
   "source": [
    "type(t)"
   ]
  },
  {
   "cell_type": "code",
   "execution_count": 3,
   "id": "3a6736e0",
   "metadata": {},
   "outputs": [],
   "source": [
    "t1=(5,6,9,2,1)"
   ]
  },
  {
   "cell_type": "code",
   "execution_count": 4,
   "id": "d847dbdb",
   "metadata": {},
   "outputs": [
    {
     "data": {
      "text/plain": [
       "tuple"
      ]
     },
     "execution_count": 4,
     "metadata": {},
     "output_type": "execute_result"
    }
   ],
   "source": [
    "type(t1)"
   ]
  },
  {
   "cell_type": "code",
   "execution_count": 5,
   "id": "3cc3d53b",
   "metadata": {},
   "outputs": [
    {
     "data": {
      "text/plain": [
       "(3, 4, 5, 6, 7, 5, 6, 9, 2, 1)"
      ]
     },
     "execution_count": 5,
     "metadata": {},
     "output_type": "execute_result"
    }
   ],
   "source": [
    "t+t1"
   ]
  },
  {
   "cell_type": "code",
   "execution_count": 6,
   "id": "6f5492ed",
   "metadata": {},
   "outputs": [
    {
     "data": {
      "text/plain": [
       "3"
      ]
     },
     "execution_count": 6,
     "metadata": {},
     "output_type": "execute_result"
    }
   ],
   "source": [
    "(3)"
   ]
  },
  {
   "cell_type": "code",
   "execution_count": 7,
   "id": "78b9f638",
   "metadata": {},
   "outputs": [
    {
     "data": {
      "text/plain": [
       "int"
      ]
     },
     "execution_count": 7,
     "metadata": {},
     "output_type": "execute_result"
    }
   ],
   "source": [
    "type((3))"
   ]
  },
  {
   "cell_type": "code",
   "execution_count": 10,
   "id": "c0fb4201",
   "metadata": {},
   "outputs": [],
   "source": [
    "l=[6,34,56,87,[3,1,0,9]]"
   ]
  },
  {
   "cell_type": "code",
   "execution_count": 12,
   "id": "a28e4913",
   "metadata": {},
   "outputs": [
    {
     "data": {
      "text/plain": [
       "[6, 34, 56, 87, [3, 1, 0, 9]]"
      ]
     },
     "execution_count": 12,
     "metadata": {},
     "output_type": "execute_result"
    }
   ],
   "source": [
    "l"
   ]
  },
  {
   "cell_type": "code",
   "execution_count": 16,
   "id": "91f67116",
   "metadata": {},
   "outputs": [
    {
     "data": {
      "text/plain": [
       "[3, 1, 0, 9]"
      ]
     },
     "execution_count": 16,
     "metadata": {},
     "output_type": "execute_result"
    }
   ],
   "source": [
    "l[4]"
   ]
  },
  {
   "cell_type": "code",
   "execution_count": 17,
   "id": "1d433679",
   "metadata": {},
   "outputs": [
    {
     "data": {
      "text/plain": [
       "0"
      ]
     },
     "execution_count": 17,
     "metadata": {},
     "output_type": "execute_result"
    }
   ],
   "source": [
    "l[4][2]"
   ]
  },
  {
   "cell_type": "code",
   "execution_count": 34,
   "id": "5b7cffab",
   "metadata": {},
   "outputs": [],
   "source": [
    "d={\"name\":\"Jayasree\",\"Technology\":[\"python\",\"c\",\"c++\",\"M.L\",\"Data Structures\"]}"
   ]
  },
  {
   "cell_type": "code",
   "execution_count": 35,
   "id": "db39c985",
   "metadata": {},
   "outputs": [
    {
     "data": {
      "text/plain": [
       "'Jayasree'"
      ]
     },
     "execution_count": 35,
     "metadata": {},
     "output_type": "execute_result"
    }
   ],
   "source": [
    "d[\"name\"]"
   ]
  },
  {
   "cell_type": "code",
   "execution_count": 36,
   "id": "3e0d6cae",
   "metadata": {},
   "outputs": [
    {
     "data": {
      "text/plain": [
       "['python', 'c', 'c++', 'M.L', 'Data Structures']"
      ]
     },
     "execution_count": 36,
     "metadata": {},
     "output_type": "execute_result"
    }
   ],
   "source": [
    "d[\"Technology\"]"
   ]
  },
  {
   "cell_type": "code",
   "execution_count": 37,
   "id": "9a4a7390",
   "metadata": {},
   "outputs": [
    {
     "data": {
      "text/plain": [
       "True"
      ]
     },
     "execution_count": 37,
     "metadata": {},
     "output_type": "execute_result"
    }
   ],
   "source": [
    "\"python\"in d[\"Technology\"]"
   ]
  },
  {
   "cell_type": "code",
   "execution_count": 38,
   "id": "914245c5",
   "metadata": {},
   "outputs": [
    {
     "data": {
      "text/plain": [
       "dict_values(['Jayasree', ['python', 'c', 'c++', 'M.L', 'Data Structures']])"
      ]
     },
     "execution_count": 38,
     "metadata": {},
     "output_type": "execute_result"
    }
   ],
   "source": [
    "d.values()"
   ]
  },
  {
   "cell_type": "code",
   "execution_count": 39,
   "id": "4800a701",
   "metadata": {},
   "outputs": [
    {
     "data": {
      "text/plain": [
       "dict_keys(['name', 'Technology'])"
      ]
     },
     "execution_count": 39,
     "metadata": {},
     "output_type": "execute_result"
    }
   ],
   "source": [
    "d.keys()"
   ]
  },
  {
   "cell_type": "code",
   "execution_count": 40,
   "id": "40a9e40d",
   "metadata": {},
   "outputs": [
    {
     "data": {
      "text/plain": [
       "['python', 'c', 'c++', 'M.L', 'Data Structures']"
      ]
     },
     "execution_count": 40,
     "metadata": {},
     "output_type": "execute_result"
    }
   ],
   "source": [
    "d.pop(\"Technology\")"
   ]
  },
  {
   "cell_type": "code",
   "execution_count": 41,
   "id": "1393e562",
   "metadata": {},
   "outputs": [
    {
     "data": {
      "text/plain": [
       "{'name': 'Jayasree'}"
      ]
     },
     "execution_count": 41,
     "metadata": {},
     "output_type": "execute_result"
    }
   ],
   "source": [
    "d"
   ]
  },
  {
   "cell_type": "code",
   "execution_count": 42,
   "id": "955a85d1",
   "metadata": {},
   "outputs": [
    {
     "data": {
      "text/plain": [
       "('name', 'Jayasree')"
      ]
     },
     "execution_count": 42,
     "metadata": {},
     "output_type": "execute_result"
    }
   ],
   "source": [
    "d.popitem()"
   ]
  },
  {
   "cell_type": "code",
   "execution_count": 43,
   "id": "f82d4869",
   "metadata": {},
   "outputs": [
    {
     "data": {
      "text/plain": [
       "'CSE'"
      ]
     },
     "execution_count": 43,
     "metadata": {},
     "output_type": "execute_result"
    }
   ],
   "source": [
    "d.setdefault(\"Branch\",\"CSE\")"
   ]
  },
  {
   "cell_type": "code",
   "execution_count": 44,
   "id": "9727d155",
   "metadata": {},
   "outputs": [
    {
     "data": {
      "text/plain": [
       "{'Branch': 'CSE'}"
      ]
     },
     "execution_count": 44,
     "metadata": {},
     "output_type": "execute_result"
    }
   ],
   "source": [
    "d"
   ]
  },
  {
   "cell_type": "code",
   "execution_count": 46,
   "id": "0e6b36c2",
   "metadata": {},
   "outputs": [],
   "source": [
    "d1={\"name\":\"Subbu\",\"class\":\"2nd year\",\"name\":\"Jatin\"}"
   ]
  },
  {
   "cell_type": "code",
   "execution_count": 47,
   "id": "e7c679d9",
   "metadata": {},
   "outputs": [
    {
     "data": {
      "text/plain": [
       "{'name': 'Jatin', 'class': '2nd year'}"
      ]
     },
     "execution_count": 47,
     "metadata": {},
     "output_type": "execute_result"
    }
   ],
   "source": [
    "d1"
   ]
  },
  {
   "cell_type": "code",
   "execution_count": 48,
   "id": "9ed93767",
   "metadata": {},
   "outputs": [],
   "source": [
    "d1[\"name\"]=\"Vamshi\""
   ]
  },
  {
   "cell_type": "code",
   "execution_count": 49,
   "id": "08f6150f",
   "metadata": {},
   "outputs": [
    {
     "data": {
      "text/plain": [
       "{'name': 'Vamshi', 'class': '2nd year'}"
      ]
     },
     "execution_count": 49,
     "metadata": {},
     "output_type": "execute_result"
    }
   ],
   "source": [
    "d1"
   ]
  },
  {
   "cell_type": "code",
   "execution_count": 53,
   "id": "7b8df53d",
   "metadata": {},
   "outputs": [
    {
     "ename": "SyntaxError",
     "evalue": "invalid syntax (1342676447.py, line 1)",
     "output_type": "error",
     "traceback": [
      "\u001b[1;36m  Input \u001b[1;32mIn [53]\u001b[1;36m\u001b[0m\n\u001b[1;33m    d2={@:\"Jayasree\"}\u001b[0m\n\u001b[1;37m        ^\u001b[0m\n\u001b[1;31mSyntaxError\u001b[0m\u001b[1;31m:\u001b[0m invalid syntax\n"
     ]
    }
   ],
   "source": [
    "d2={@:\"Jayasree\"}"
   ]
  },
  {
   "cell_type": "code",
   "execution_count": 1,
   "id": "58740083",
   "metadata": {},
   "outputs": [],
   "source": [
    "d2={_:\"Niharika\"}"
   ]
  },
  {
   "cell_type": "code",
   "execution_count": 2,
   "id": "8a091781",
   "metadata": {},
   "outputs": [
    {
     "data": {
      "text/plain": [
       "{'': 'Niharika'}"
      ]
     },
     "execution_count": 2,
     "metadata": {},
     "output_type": "execute_result"
    }
   ],
   "source": [
    "d2"
   ]
  },
  {
   "cell_type": "code",
   "execution_count": 3,
   "id": "c91ff313",
   "metadata": {},
   "outputs": [],
   "source": [
    "s={2,3,4,5,6,7,8,9}"
   ]
  },
  {
   "cell_type": "code",
   "execution_count": 4,
   "id": "213c41ad",
   "metadata": {},
   "outputs": [
    {
     "data": {
      "text/plain": [
       "{2, 3, 4, 5, 6, 7, 8, 9}"
      ]
     },
     "execution_count": 4,
     "metadata": {},
     "output_type": "execute_result"
    }
   ],
   "source": [
    "s"
   ]
  },
  {
   "cell_type": "code",
   "execution_count": 5,
   "id": "95e25a64",
   "metadata": {},
   "outputs": [],
   "source": [
    "s2={45,23,78,12,89,\"Vamshi\",\"Shivani\",\"Nani\"}"
   ]
  },
  {
   "cell_type": "code",
   "execution_count": 8,
   "id": "cbd37b94",
   "metadata": {},
   "outputs": [
    {
     "data": {
      "text/plain": [
       "{12, 23, 45, 78, 89, 'Nani', 'Shivani', 'Vamshi'}"
      ]
     },
     "execution_count": 8,
     "metadata": {},
     "output_type": "execute_result"
    }
   ],
   "source": [
    "s2"
   ]
  },
  {
   "cell_type": "code",
   "execution_count": 9,
   "id": "1b7b4868",
   "metadata": {},
   "outputs": [],
   "source": [
    "s2={788,455,122,566,6777,\"p\",899,900,45}"
   ]
  },
  {
   "cell_type": "code",
   "execution_count": 10,
   "id": "bfc1b4f6",
   "metadata": {},
   "outputs": [
    {
     "data": {
      "text/plain": [
       "{122, 45, 455, 566, 6777, 788, 899, 900, 'p'}"
      ]
     },
     "execution_count": 10,
     "metadata": {},
     "output_type": "execute_result"
    }
   ],
   "source": [
    "s2"
   ]
  },
  {
   "cell_type": "code",
   "execution_count": 11,
   "id": "d69e7f27",
   "metadata": {},
   "outputs": [
    {
     "ename": "TypeError",
     "evalue": "'set' object is not subscriptable",
     "output_type": "error",
     "traceback": [
      "\u001b[1;31m---------------------------------------------------------------------------\u001b[0m",
      "\u001b[1;31mTypeError\u001b[0m                                 Traceback (most recent call last)",
      "Input \u001b[1;32mIn [11]\u001b[0m, in \u001b[0;36m<cell line: 1>\u001b[1;34m()\u001b[0m\n\u001b[1;32m----> 1\u001b[0m \u001b[43ms2\u001b[49m\u001b[43m[\u001b[49m\u001b[38;5;241;43m9\u001b[39;49m\u001b[43m]\u001b[49m\n",
      "\u001b[1;31mTypeError\u001b[0m: 'set' object is not subscriptable"
     ]
    }
   ],
   "source": [
    "s2[9]"
   ]
  },
  {
   "cell_type": "code",
   "execution_count": 13,
   "id": "4beb8dd1",
   "metadata": {},
   "outputs": [],
   "source": [
    "s2=list(s2)"
   ]
  },
  {
   "cell_type": "code",
   "execution_count": 14,
   "id": "a97fcd84",
   "metadata": {},
   "outputs": [
    {
     "data": {
      "text/plain": [
       "[899, 900, 455, 45, 'p', 788, 566, 6777, 122]"
      ]
     },
     "execution_count": 14,
     "metadata": {},
     "output_type": "execute_result"
    }
   ],
   "source": [
    "s2"
   ]
  },
  {
   "cell_type": "code",
   "execution_count": 15,
   "id": "f0828099",
   "metadata": {},
   "outputs": [
    {
     "data": {
      "text/plain": [
       "566"
      ]
     },
     "execution_count": 15,
     "metadata": {},
     "output_type": "execute_result"
    }
   ],
   "source": [
    "s2[6]"
   ]
  },
  {
   "cell_type": "code",
   "execution_count": 16,
   "id": "cf579fc5",
   "metadata": {},
   "outputs": [
    {
     "ename": "TypeError",
     "evalue": "unhashable type: 'list'",
     "output_type": "error",
     "traceback": [
      "\u001b[1;31m---------------------------------------------------------------------------\u001b[0m",
      "\u001b[1;31mTypeError\u001b[0m                                 Traceback (most recent call last)",
      "Input \u001b[1;32mIn [16]\u001b[0m, in \u001b[0;36m<cell line: 1>\u001b[1;34m()\u001b[0m\n\u001b[1;32m----> 1\u001b[0m s3\u001b[38;5;241m=\u001b[39m{[\u001b[38;5;241m5\u001b[39m,\u001b[38;5;241m6\u001b[39m,\u001b[38;5;241m7\u001b[39m,\u001b[38;5;241m8\u001b[39m],\u001b[38;5;241m45\u001b[39m,\u001b[38;5;241m67\u001b[39m,\u001b[38;5;241m89\u001b[39m,\u001b[38;5;241m90\u001b[39m}\n",
      "\u001b[1;31mTypeError\u001b[0m: unhashable type: 'list'"
     ]
    }
   ],
   "source": [
    "s3={[5,6,7,8],45,67,89,90}"
   ]
  },
  {
   "cell_type": "code",
   "execution_count": 20,
   "id": "22a9cfba",
   "metadata": {},
   "outputs": [],
   "source": [
    "s3={(5,6,7,8),45,67,89,90} #tuple is allowed as element inside set"
   ]
  },
  {
   "cell_type": "code",
   "execution_count": 21,
   "id": "4a061b52",
   "metadata": {},
   "outputs": [
    {
     "data": {
      "text/plain": [
       "{(5, 6, 7, 8), 45, 67, 89, 90}"
      ]
     },
     "execution_count": 21,
     "metadata": {},
     "output_type": "execute_result"
    }
   ],
   "source": [
    "s3"
   ]
  },
  {
   "cell_type": "markdown",
   "id": "119b6919",
   "metadata": {},
   "source": [
    "imMutable collection is allowed inside set as element"
   ]
  },
  {
   "cell_type": "code",
   "execution_count": 22,
   "id": "8a47278d",
   "metadata": {},
   "outputs": [],
   "source": [
    "s3.discard(45)"
   ]
  },
  {
   "cell_type": "code",
   "execution_count": 23,
   "id": "79c396ad",
   "metadata": {},
   "outputs": [
    {
     "data": {
      "text/plain": [
       "{(5, 6, 7, 8), 67, 89, 90}"
      ]
     },
     "execution_count": 23,
     "metadata": {},
     "output_type": "execute_result"
    }
   ],
   "source": [
    "s3"
   ]
  },
  {
   "cell_type": "code",
   "execution_count": 25,
   "id": "6c8cee9b",
   "metadata": {},
   "outputs": [],
   "source": [
    "s3.remove(89)"
   ]
  },
  {
   "cell_type": "code",
   "execution_count": 26,
   "id": "d29d5883",
   "metadata": {},
   "outputs": [
    {
     "data": {
      "text/plain": [
       "{(5, 6, 7, 8), 67, 90}"
      ]
     },
     "execution_count": 26,
     "metadata": {},
     "output_type": "execute_result"
    }
   ],
   "source": [
    "s3"
   ]
  },
  {
   "cell_type": "code",
   "execution_count": 27,
   "id": "f0417e59",
   "metadata": {},
   "outputs": [
    {
     "ename": "KeyError",
     "evalue": "0",
     "output_type": "error",
     "traceback": [
      "\u001b[1;31m---------------------------------------------------------------------------\u001b[0m",
      "\u001b[1;31mKeyError\u001b[0m                                  Traceback (most recent call last)",
      "Input \u001b[1;32mIn [27]\u001b[0m, in \u001b[0;36m<cell line: 1>\u001b[1;34m()\u001b[0m\n\u001b[1;32m----> 1\u001b[0m \u001b[43ms3\u001b[49m\u001b[38;5;241;43m.\u001b[39;49m\u001b[43mremove\u001b[49m\u001b[43m(\u001b[49m\u001b[38;5;241;43m0\u001b[39;49m\u001b[43m)\u001b[49m\n",
      "\u001b[1;31mKeyError\u001b[0m: 0"
     ]
    }
   ],
   "source": [
    "s3.remove(0)"
   ]
  },
  {
   "cell_type": "code",
   "execution_count": 28,
   "id": "262428b0",
   "metadata": {},
   "outputs": [],
   "source": [
    "s3.discard(0)"
   ]
  },
  {
   "cell_type": "code",
   "execution_count": 29,
   "id": "51c7b74c",
   "metadata": {},
   "outputs": [
    {
     "data": {
      "text/plain": [
       "{(5, 6, 7, 8), 67, 90}"
      ]
     },
     "execution_count": 29,
     "metadata": {},
     "output_type": "execute_result"
    }
   ],
   "source": [
    "s3"
   ]
  },
  {
   "cell_type": "code",
   "execution_count": 30,
   "id": "6a60976c",
   "metadata": {},
   "outputs": [],
   "source": [
    "s3.clear()"
   ]
  },
  {
   "cell_type": "code",
   "execution_count": 31,
   "id": "79241e07",
   "metadata": {},
   "outputs": [
    {
     "data": {
      "text/plain": [
       "set()"
      ]
     },
     "execution_count": 31,
     "metadata": {},
     "output_type": "execute_result"
    }
   ],
   "source": [
    "s3"
   ]
  },
  {
   "cell_type": "code",
   "execution_count": 51,
   "id": "f42917aa",
   "metadata": {},
   "outputs": [
    {
     "data": {
      "text/plain": [
       "{45, 455, 899, 900, 'p'}"
      ]
     },
     "execution_count": 51,
     "metadata": {},
     "output_type": "execute_result"
    }
   ],
   "source": [
    "s2"
   ]
  },
  {
   "cell_type": "code",
   "execution_count": 52,
   "id": "1c0102ad",
   "metadata": {},
   "outputs": [],
   "source": [
    "s2=set(s2)"
   ]
  },
  {
   "cell_type": "code",
   "execution_count": 54,
   "id": "91e0545c",
   "metadata": {},
   "outputs": [
    {
     "data": {
      "text/plain": [
       "'p'"
      ]
     },
     "execution_count": 54,
     "metadata": {},
     "output_type": "execute_result"
    }
   ],
   "source": [
    "s2.pop()"
   ]
  },
  {
   "cell_type": "code",
   "execution_count": 55,
   "id": "b12c8c5b",
   "metadata": {},
   "outputs": [
    {
     "data": {
      "text/plain": [
       "{45, 455, 899, 900}"
      ]
     },
     "execution_count": 55,
     "metadata": {},
     "output_type": "execute_result"
    }
   ],
   "source": [
    "s2"
   ]
  },
  {
   "cell_type": "code",
   "execution_count": 56,
   "id": "b6b017e5",
   "metadata": {},
   "outputs": [
    {
     "data": {
      "text/plain": [
       "899"
      ]
     },
     "execution_count": 56,
     "metadata": {},
     "output_type": "execute_result"
    }
   ],
   "source": [
    "s2.pop()"
   ]
  },
  {
   "cell_type": "code",
   "execution_count": 57,
   "id": "7db75eea",
   "metadata": {},
   "outputs": [],
   "source": [
    "s3={67,78,23,45,90,12,89,23}"
   ]
  },
  {
   "cell_type": "code",
   "execution_count": 58,
   "id": "b22348f3",
   "metadata": {},
   "outputs": [
    {
     "data": {
      "text/plain": [
       "False"
      ]
     },
     "execution_count": 58,
     "metadata": {},
     "output_type": "execute_result"
    }
   ],
   "source": [
    "s2.isdisjoint(s3)"
   ]
  },
  {
   "cell_type": "code",
   "execution_count": 59,
   "id": "b1ada286",
   "metadata": {},
   "outputs": [
    {
     "data": {
      "text/plain": [
       "{45}"
      ]
     },
     "execution_count": 59,
     "metadata": {},
     "output_type": "execute_result"
    }
   ],
   "source": [
    "s2.intersection(s3)"
   ]
  },
  {
   "cell_type": "code",
   "execution_count": 60,
   "id": "7602cc3a",
   "metadata": {},
   "outputs": [
    {
     "ename": "AttributeError",
     "evalue": "'set' object has no attribute 'sort'",
     "output_type": "error",
     "traceback": [
      "\u001b[1;31m---------------------------------------------------------------------------\u001b[0m",
      "\u001b[1;31mAttributeError\u001b[0m                            Traceback (most recent call last)",
      "Input \u001b[1;32mIn [60]\u001b[0m, in \u001b[0;36m<cell line: 1>\u001b[1;34m()\u001b[0m\n\u001b[1;32m----> 1\u001b[0m \u001b[43ms2\u001b[49m\u001b[38;5;241;43m.\u001b[39;49m\u001b[43msort\u001b[49m()\n",
      "\u001b[1;31mAttributeError\u001b[0m: 'set' object has no attribute 'sort'"
     ]
    }
   ],
   "source": [
    "s2.sort()"
   ]
  },
  {
   "cell_type": "code",
   "execution_count": 61,
   "id": "4d603623",
   "metadata": {},
   "outputs": [],
   "source": [
    "s2=list(s2)"
   ]
  },
  {
   "cell_type": "code",
   "execution_count": 62,
   "id": "d4e7a354",
   "metadata": {},
   "outputs": [
    {
     "data": {
      "text/plain": [
       "[900, 455, 45]"
      ]
     },
     "execution_count": 62,
     "metadata": {},
     "output_type": "execute_result"
    }
   ],
   "source": [
    "s2"
   ]
  },
  {
   "cell_type": "code",
   "execution_count": 63,
   "id": "31bd0ac3",
   "metadata": {},
   "outputs": [],
   "source": [
    "s2.sort()"
   ]
  },
  {
   "cell_type": "code",
   "execution_count": 64,
   "id": "c80cc081",
   "metadata": {},
   "outputs": [
    {
     "data": {
      "text/plain": [
       "[45, 455, 900]"
      ]
     },
     "execution_count": 64,
     "metadata": {},
     "output_type": "execute_result"
    }
   ],
   "source": [
    "s2"
   ]
  },
  {
   "cell_type": "code",
   "execution_count": null,
   "id": "3029ef6d",
   "metadata": {},
   "outputs": [],
   "source": []
  }
 ],
 "metadata": {
  "kernelspec": {
   "display_name": "Python 3 (ipykernel)",
   "language": "python",
   "name": "python3"
  },
  "language_info": {
   "codemirror_mode": {
    "name": "ipython",
    "version": 3
   },
   "file_extension": ".py",
   "mimetype": "text/x-python",
   "name": "python",
   "nbconvert_exporter": "python",
   "pygments_lexer": "ipython3",
   "version": "3.10.5"
  }
 },
 "nbformat": 4,
 "nbformat_minor": 5
}
